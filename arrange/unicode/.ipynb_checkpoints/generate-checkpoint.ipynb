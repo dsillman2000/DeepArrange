{
 "cells": [
  {
   "cell_type": "code",
   "execution_count": 2,
   "metadata": {},
   "outputs": [],
   "source": [
    "# Generate images of all 52 letters\n",
    "import matplotlib.pyplot as plt\n",
    "from matplotlib.offsetbox import OffsetImage, AnnotationBbox, TextArea\n",
    "from matplotlib.font_manager import FontProperties\n",
    "font = FontProperties()\n",
    "font.set_family('serif')\n",
    "font.set_name('Times New Roman')\n",
    "#font.set_style('italic')\n",
    "lets = list(set(range(65,91)).union(set(range(97,123))))\n",
    "for num in lets:\n",
    "    fig,ax = plt.subplots()\n",
    "    ab = AnnotationBbox(TextArea(chr(num),textprops=dict(size=256,fontproperties=font)),(0,0),frameon=False)\n",
    "    ax.add_artist(ab)\n",
    "    ax.set_ylim(-1,1)\n",
    "    ax.set_xlim(-1,1)\n",
    "    ax.set_aspect('equal')\n",
    "    plt.axis('off')\n",
    "    #fig.set_size_inches(4, 4)\n",
    "    plt.savefig('letters/'+str(num)+'.png',bbox_inches='tight', dpi=69.6)\n",
    "    plt.close()"
   ]
  },
  {
   "cell_type": "code",
   "execution_count": 3,
   "metadata": {},
   "outputs": [],
   "source": [
    "# Put images of letters into h5 file (for distribution)\n",
    "import h5py\n",
    "import numpy as np\n",
    "import cv2\n",
    "import os\n",
    "directory = 'letters'\n",
    "imgs = []\n",
    "for filename in os.listdir(directory):\n",
    "    if filename.endswith(\".png\"): \n",
    "        img = cv2.imread(os.path.join(directory, filename))#,cv2.IMREAD_UNCHANGED)\n",
    "        #img = cv2.resize(img, dsize=(224,224), interpolation=cv2.INTER_LANCZOS4)\n",
    "        img = cv2.cvtColor(img, cv2.COLOR_BGR2RGB)\n",
    "        imgs.append(img)\n",
    "    else:\n",
    "        print('bad file extension:',filename)\n",
    "        continue\n",
    "imgs = np.array(imgs)\n",
    "tops = h5py.File('letters52.h5','w')\n",
    "tops.create_dataset('letters', data=imgs)\n",
    "tops.close()"
   ]
  },
  {
   "cell_type": "code",
   "execution_count": null,
   "metadata": {},
   "outputs": [],
   "source": []
  }
 ],
 "metadata": {
  "kernelspec": {
   "display_name": "Python 3",
   "language": "python",
   "name": "python3"
  },
  "language_info": {
   "codemirror_mode": {
    "name": "ipython",
    "version": 3
   },
   "file_extension": ".py",
   "mimetype": "text/x-python",
   "name": "python",
   "nbconvert_exporter": "python",
   "pygments_lexer": "ipython3",
   "version": "3.7.3"
  }
 },
 "nbformat": 4,
 "nbformat_minor": 2
}
